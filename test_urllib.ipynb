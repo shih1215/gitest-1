{
 "cells": [
  {
   "cell_type": "code",
   "execution_count": null,
   "metadata": {},
   "outputs": [],
   "source": [
    "from urllib.request import urlopen\n",
    "html = urlopen(\"http://www.wzu.edu.tw\")\n",
    "print(\"網址：\", html.geturl())\n",
    "print(\"回應狀態：\", html.getcode())\n",
    "print(html.info())\n"
   ]
  },
  {
   "cell_type": "code",
   "execution_count": null,
   "metadata": {
    "scrolled": true
   },
   "outputs": [],
   "source": [
    "# request:GET\n",
    "import urllib.request\n",
    "html = urllib.request.urlopen('http://www.wzu.edu.tw')\n",
    "print(html.read().decode('utf-8'))"
   ]
  },
  {
   "cell_type": "code",
   "execution_count": 16,
   "metadata": {},
   "outputs": [
    {
     "name": "stdout",
     "output_type": "stream",
     "text": [
      "{\n",
      "  \"args\": {}, \n",
      "  \"data\": \"\", \n",
      "  \"files\": {}, \n",
      "  \"form\": {\n",
      "    \"word\": \"hello\"\n",
      "  }, \n",
      "  \"headers\": {\n",
      "    \"Accept-Encoding\": \"identity\", \n",
      "    \"Connection\": \"close\", \n",
      "    \"Content-Length\": \"10\", \n",
      "    \"Content-Type\": \"application/x-www-form-urlencoded\", \n",
      "    \"Host\": \"httpbin.org\", \n",
      "    \"User-Agent\": \"Python-urllib/3.6\"\n",
      "  }, \n",
      "  \"json\": null, \n",
      "  \"origin\": \"122.117.193.149\", \n",
      "  \"url\": \"http://httpbin.org/post\"\n",
      "}\n",
      "\n"
     ]
    }
   ],
   "source": [
    "# request: POST\n",
    "# http测试：http://httpbin.org/\n",
    "import urllib.parse\n",
    "import urllib.request\n",
    "data = bytes(urllib.parse.urlencode({'word':'hello'}),encoding='utf8')\n",
    "response = urllib.request.urlopen('http://httpbin.org/post',data=data)\n",
    "print(response.read().decode('utf-8'))"
   ]
  },
  {
   "cell_type": "code",
   "execution_count": null,
   "metadata": {},
   "outputs": [],
   "source": [
    "import urllib.request\n",
    "url = 'http://elearning2.wzu.edu.tw'\n",
    "values = {'q':'basic', 'submit':'search'} #參數及參數值\n",
    "data = urllib.parse.urlencode(values)     #解析並轉為url編碼格式\n",
    "data = data.encode('utf-8')               #將所有網址用utf8解碼\n",
    "req = urllib.request.Request(url, data)   #建立請求\n",
    "resp = urllib.request.urlopen(req)        #開啟網頁\n",
    "respData = resp.read()\n",
    "print(respData)"
   ]
  }
 ],
 "metadata": {
  "kernelspec": {
   "display_name": "Python 3",
   "language": "python",
   "name": "python3"
  },
  "language_info": {
   "codemirror_mode": {
    "name": "ipython",
    "version": 3
   },
   "file_extension": ".py",
   "mimetype": "text/x-python",
   "name": "python",
   "nbconvert_exporter": "python",
   "pygments_lexer": "ipython3",
   "version": "3.6.6"
  }
 },
 "nbformat": 4,
 "nbformat_minor": 2
}
